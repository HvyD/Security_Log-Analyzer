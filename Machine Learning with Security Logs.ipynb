{
 "cells": [
  {
   "cell_type": "code",
   "execution_count": null,
   "metadata": {},
   "outputs": [],
   "source": [
    "from __future__ import print_function\n",
    "import os\n",
    "import pandas as pd\n",
    "import numpy as np\n",
    "import sklearn\n",
    "\n",
    "\n",
    "from sklearn.model_selection import StratifiedShuffleSplit\n",
    "from sklearn.linear_model import LogisticRegression\n",
    "from sklearn.metrics import accuracy_score\n",
    "from sklearn.neighbors import KNeighborsClassifier\n"
   ]
  },
  {
   "cell_type": "markdown",
   "metadata": {},
   "source": [
    "# Log Preparations"
   ]
  },
  {
   "cell_type": "code",
   "execution_count": null,
   "metadata": {},
   "outputs": [],
   "source": [
    "\n",
    "data_path = [pass]\n",
    "filepath = os.sep.join(data_path + [pass])\n",
    "data = pd.read_csv(filepath, sep=',')\n",
    "cleaned_data = data.dropna(axis ='columns', how='all')\n",
    "sample_data = cleaned_data.head(100000)\n",
    "\n",
    "for col in sample_data.columns.values.tolist():\n",
    "    if (len (sample_data[col].value_counts()) == 1) :\n",
    "        sample_data.drop(col, axis=1, inplace=True)\n",
    "\n",
    "cleaned_sample_data = sample_data\n",
    "\n",
    "feature_cols =  ['bytes', 'bytes_in', 'bytes_out',  'ctime', 'reqsize', 'respsize', 'riskscore',  'stime', 'url_length']\n",
    "\n",
    "\n",
    "strat_shuff_split = StratifiedShuffleSplit(n_splits=1, test_size=20000, random_state=42) # This creates a generator\n",
    "\n",
    "\n",
    "train_idx, test_idx = next(strat_shuff_split.split(cleaned_sample_data[feature_cols], cleaned_sample_data['action']))\n",
    "\n",
    "X_train = cleaned_sample_data.loc[train_idx, feature_cols]\n",
    "y_train = cleaned_sample_data.loc[train_idx, 'action']\n",
    "\n",
    "X_test = cleaned_sample_data.loc[test_idx, feature_cols]\n",
    "y_test = cleaned_sample_data.loc[test_idx, 'action']\n",
    "\n",
    "\n"
   ]
  },
  {
   "cell_type": "markdown",
   "metadata": {},
   "source": [
    "# Model Training"
   ]
  },
  {
   "cell_type": "code",
   "execution_count": null,
   "metadata": {},
   "outputs": [],
   "source": [
    "knn = KNeighborsClassifier(n_neighbors=10)\n",
    "knn.fit(X_train,y_train)\n",
    "knn_pred = knn.predict(X_test)\n",
    "print(accuracy_score(y_test, knn_pred))"
   ]
  }
 ],
 "metadata": {
  "kernelspec": {
   "display_name": "Python 3",
   "language": "python",
   "name": "python3"
  },
  "language_info": {
   "codemirror_mode": {
    "name": "ipython",
    "version": 3
   },
   "file_extension": ".py",
   "mimetype": "text/x-python",
   "name": "python",
   "nbconvert_exporter": "python",
   "pygments_lexer": "ipython3",
   "version": "3.5.5"
  }
 },
 "nbformat": 4,
 "nbformat_minor": 2
}
